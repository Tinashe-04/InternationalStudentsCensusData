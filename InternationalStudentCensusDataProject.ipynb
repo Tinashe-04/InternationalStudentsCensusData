{
 "cells": [
  {
   "cell_type": "code",
   "execution_count": 1,
   "metadata": {},
   "outputs": [],
   "source": [
    "# import relevant libraries to work in\n",
    "# matplotlib and seaborn for plots & visualizations\n",
    "# datetime for data type conversion\n",
    "# sklearn for linear regression and other types of models\n",
    "\n",
    "import pandas as pd\n",
    "import numpy as np\n",
    "%matplotlib inline\n",
    "import matplotlib as mpl\n",
    "import matplotlib.pyplot as plt\n",
    "import seaborn as sns\n",
    "from datetime import datetime\n",
    "from datetime import timedelta\n",
    "from sklearn.linear_model import LinearRegression\n",
    "import plotly.figure_factory as ff\n",
    "import plotly.express as px\n",
    "import plotly.graph_objects as go\n"
   ]
  },
  {
   "cell_type": "code",
   "execution_count": 2,
   "metadata": {},
   "outputs": [
    {
     "data": {
      "text/html": [
       "<div>\n",
       "<style scoped>\n",
       "    .dataframe tbody tr th:only-of-type {\n",
       "        vertical-align: middle;\n",
       "    }\n",
       "\n",
       "    .dataframe tbody tr th {\n",
       "        vertical-align: top;\n",
       "    }\n",
       "\n",
       "    .dataframe thead th {\n",
       "        text-align: right;\n",
       "    }\n",
       "</style>\n",
       "<table border=\"1\" class=\"dataframe\">\n",
       "  <thead>\n",
       "    <tr style=\"text-align: right;\">\n",
       "      <th></th>\n",
       "      <th>Unnamed: 0</th>\n",
       "      <th>Place of Origin</th>\n",
       "      <th>1949/50</th>\n",
       "      <th>1954/55</th>\n",
       "      <th>1959/60</th>\n",
       "      <th>1964/65</th>\n",
       "      <th>1969/70</th>\n",
       "      <th>1974/75</th>\n",
       "      <th>1979/80</th>\n",
       "      <th>1984/85</th>\n",
       "      <th>...</th>\n",
       "      <th>2014/15</th>\n",
       "      <th>2015/16</th>\n",
       "      <th>2016/17</th>\n",
       "      <th>2017/18</th>\n",
       "      <th>2018/19</th>\n",
       "      <th>2019/20</th>\n",
       "      <th>2020/21</th>\n",
       "      <th>2021/22</th>\n",
       "      <th>2022/23</th>\n",
       "      <th>% Change</th>\n",
       "    </tr>\n",
       "  </thead>\n",
       "  <tbody>\n",
       "    <tr>\n",
       "      <th>0</th>\n",
       "      <td>0</td>\n",
       "      <td>Burundi</td>\n",
       "      <td>0</td>\n",
       "      <td>0</td>\n",
       "      <td>0</td>\n",
       "      <td>6</td>\n",
       "      <td>6</td>\n",
       "      <td>5</td>\n",
       "      <td>12</td>\n",
       "      <td>32</td>\n",
       "      <td>...</td>\n",
       "      <td>165</td>\n",
       "      <td>148</td>\n",
       "      <td>180</td>\n",
       "      <td>134</td>\n",
       "      <td>141</td>\n",
       "      <td>164</td>\n",
       "      <td>149</td>\n",
       "      <td>157</td>\n",
       "      <td>194</td>\n",
       "      <td>23.6</td>\n",
       "    </tr>\n",
       "    <tr>\n",
       "      <th>1</th>\n",
       "      <td>1</td>\n",
       "      <td>Djibouti</td>\n",
       "      <td>0</td>\n",
       "      <td>0</td>\n",
       "      <td>0</td>\n",
       "      <td>0</td>\n",
       "      <td>0</td>\n",
       "      <td>1</td>\n",
       "      <td>2</td>\n",
       "      <td>16</td>\n",
       "      <td>...</td>\n",
       "      <td>7</td>\n",
       "      <td>9</td>\n",
       "      <td>10</td>\n",
       "      <td>9</td>\n",
       "      <td>9</td>\n",
       "      <td>6</td>\n",
       "      <td>6</td>\n",
       "      <td>6</td>\n",
       "      <td>10</td>\n",
       "      <td>66.7</td>\n",
       "    </tr>\n",
       "    <tr>\n",
       "      <th>2</th>\n",
       "      <td>2</td>\n",
       "      <td>Eritrea</td>\n",
       "      <td>0</td>\n",
       "      <td>0</td>\n",
       "      <td>0</td>\n",
       "      <td>0</td>\n",
       "      <td>0</td>\n",
       "      <td>0</td>\n",
       "      <td>0</td>\n",
       "      <td>0</td>\n",
       "      <td>...</td>\n",
       "      <td>108</td>\n",
       "      <td>109</td>\n",
       "      <td>138</td>\n",
       "      <td>151</td>\n",
       "      <td>117</td>\n",
       "      <td>81</td>\n",
       "      <td>53</td>\n",
       "      <td>77</td>\n",
       "      <td>73</td>\n",
       "      <td>-5.2</td>\n",
       "    </tr>\n",
       "    <tr>\n",
       "      <th>3</th>\n",
       "      <td>3</td>\n",
       "      <td>Ethiopia</td>\n",
       "      <td>37</td>\n",
       "      <td>62</td>\n",
       "      <td>170</td>\n",
       "      <td>266</td>\n",
       "      <td>540</td>\n",
       "      <td>2050</td>\n",
       "      <td>1340</td>\n",
       "      <td>2120</td>\n",
       "      <td>...</td>\n",
       "      <td>1472</td>\n",
       "      <td>1517</td>\n",
       "      <td>1847</td>\n",
       "      <td>2118</td>\n",
       "      <td>2061</td>\n",
       "      <td>2356</td>\n",
       "      <td>2166</td>\n",
       "      <td>2680</td>\n",
       "      <td>3006</td>\n",
       "      <td>12.2</td>\n",
       "    </tr>\n",
       "    <tr>\n",
       "      <th>4</th>\n",
       "      <td>4</td>\n",
       "      <td>Kenya</td>\n",
       "      <td>0</td>\n",
       "      <td>19</td>\n",
       "      <td>156</td>\n",
       "      <td>774</td>\n",
       "      <td>492</td>\n",
       "      <td>870</td>\n",
       "      <td>1850</td>\n",
       "      <td>1890</td>\n",
       "      <td>...</td>\n",
       "      <td>3072</td>\n",
       "      <td>3019</td>\n",
       "      <td>3189</td>\n",
       "      <td>3322</td>\n",
       "      <td>3451</td>\n",
       "      <td>3710</td>\n",
       "      <td>3502</td>\n",
       "      <td>3799</td>\n",
       "      <td>4059</td>\n",
       "      <td>6.8</td>\n",
       "    </tr>\n",
       "    <tr>\n",
       "      <th>...</th>\n",
       "      <td>...</td>\n",
       "      <td>...</td>\n",
       "      <td>...</td>\n",
       "      <td>...</td>\n",
       "      <td>...</td>\n",
       "      <td>...</td>\n",
       "      <td>...</td>\n",
       "      <td>...</td>\n",
       "      <td>...</td>\n",
       "      <td>...</td>\n",
       "      <td>...</td>\n",
       "      <td>...</td>\n",
       "      <td>...</td>\n",
       "      <td>...</td>\n",
       "      <td>...</td>\n",
       "      <td>...</td>\n",
       "      <td>...</td>\n",
       "      <td>...</td>\n",
       "      <td>...</td>\n",
       "      <td>...</td>\n",
       "      <td>...</td>\n",
       "    </tr>\n",
       "    <tr>\n",
       "      <th>236</th>\n",
       "      <td>236</td>\n",
       "      <td>Tuvalu</td>\n",
       "      <td>0</td>\n",
       "      <td>0</td>\n",
       "      <td>0</td>\n",
       "      <td>0</td>\n",
       "      <td>0</td>\n",
       "      <td>0</td>\n",
       "      <td>0</td>\n",
       "      <td>0</td>\n",
       "      <td>...</td>\n",
       "      <td>7</td>\n",
       "      <td>4</td>\n",
       "      <td>3</td>\n",
       "      <td>4</td>\n",
       "      <td>4</td>\n",
       "      <td>4</td>\n",
       "      <td>6</td>\n",
       "      <td>1</td>\n",
       "      <td>3</td>\n",
       "      <td>200.0</td>\n",
       "    </tr>\n",
       "    <tr>\n",
       "      <th>237</th>\n",
       "      <td>237</td>\n",
       "      <td>Vanuatu</td>\n",
       "      <td>0</td>\n",
       "      <td>0</td>\n",
       "      <td>0</td>\n",
       "      <td>0</td>\n",
       "      <td>0</td>\n",
       "      <td>0</td>\n",
       "      <td>0</td>\n",
       "      <td>2</td>\n",
       "      <td>...</td>\n",
       "      <td>8</td>\n",
       "      <td>9</td>\n",
       "      <td>11</td>\n",
       "      <td>14</td>\n",
       "      <td>15</td>\n",
       "      <td>13</td>\n",
       "      <td>11</td>\n",
       "      <td>11</td>\n",
       "      <td>8</td>\n",
       "      <td>-27.3</td>\n",
       "    </tr>\n",
       "    <tr>\n",
       "      <th>238</th>\n",
       "      <td>238</td>\n",
       "      <td>Wallis and Futuna</td>\n",
       "      <td>0</td>\n",
       "      <td>0</td>\n",
       "      <td>0</td>\n",
       "      <td>0</td>\n",
       "      <td>0</td>\n",
       "      <td>0</td>\n",
       "      <td>0</td>\n",
       "      <td>0</td>\n",
       "      <td>...</td>\n",
       "      <td>18</td>\n",
       "      <td>4</td>\n",
       "      <td>2</td>\n",
       "      <td>0</td>\n",
       "      <td>2</td>\n",
       "      <td>0</td>\n",
       "      <td>3</td>\n",
       "      <td>9</td>\n",
       "      <td>0</td>\n",
       "      <td>-100.0</td>\n",
       "    </tr>\n",
       "    <tr>\n",
       "      <th>239</th>\n",
       "      <td>239</td>\n",
       "      <td>Pacific Islands, Unspecified</td>\n",
       "      <td>0</td>\n",
       "      <td>15</td>\n",
       "      <td>38</td>\n",
       "      <td>145</td>\n",
       "      <td>327</td>\n",
       "      <td>1263</td>\n",
       "      <td>2033</td>\n",
       "      <td>1686</td>\n",
       "      <td>...</td>\n",
       "      <td>0</td>\n",
       "      <td>0</td>\n",
       "      <td>0</td>\n",
       "      <td>0</td>\n",
       "      <td>0</td>\n",
       "      <td>0</td>\n",
       "      <td>0</td>\n",
       "      <td>0</td>\n",
       "      <td>0</td>\n",
       "      <td>0.0</td>\n",
       "    </tr>\n",
       "    <tr>\n",
       "      <th>240</th>\n",
       "      <td>240</td>\n",
       "      <td>Stateless</td>\n",
       "      <td>195</td>\n",
       "      <td>42</td>\n",
       "      <td>93</td>\n",
       "      <td>205</td>\n",
       "      <td>341</td>\n",
       "      <td>134</td>\n",
       "      <td>170</td>\n",
       "      <td>270</td>\n",
       "      <td>...</td>\n",
       "      <td>6</td>\n",
       "      <td>10</td>\n",
       "      <td>2</td>\n",
       "      <td>6</td>\n",
       "      <td>1</td>\n",
       "      <td>7</td>\n",
       "      <td>12</td>\n",
       "      <td>12</td>\n",
       "      <td>20</td>\n",
       "      <td>66.7</td>\n",
       "    </tr>\n",
       "  </tbody>\n",
       "</table>\n",
       "<p>241 rows × 37 columns</p>\n",
       "</div>"
      ],
      "text/plain": [
       "     Unnamed: 0               Place of Origin  1949/50  1954/55  1959/60  \\\n",
       "0             0                       Burundi        0        0        0   \n",
       "1             1                      Djibouti        0        0        0   \n",
       "2             2                       Eritrea        0        0        0   \n",
       "3             3                      Ethiopia       37       62      170   \n",
       "4             4                         Kenya        0       19      156   \n",
       "..          ...                           ...      ...      ...      ...   \n",
       "236         236                        Tuvalu        0        0        0   \n",
       "237         237                       Vanuatu        0        0        0   \n",
       "238         238             Wallis and Futuna        0        0        0   \n",
       "239         239  Pacific Islands, Unspecified        0       15       38   \n",
       "240         240                     Stateless      195       42       93   \n",
       "\n",
       "     1964/65  1969/70  1974/75  1979/80  1984/85  ...  2014/15  2015/16  \\\n",
       "0          6        6        5       12       32  ...      165      148   \n",
       "1          0        0        1        2       16  ...        7        9   \n",
       "2          0        0        0        0        0  ...      108      109   \n",
       "3        266      540     2050     1340     2120  ...     1472     1517   \n",
       "4        774      492      870     1850     1890  ...     3072     3019   \n",
       "..       ...      ...      ...      ...      ...  ...      ...      ...   \n",
       "236        0        0        0        0        0  ...        7        4   \n",
       "237        0        0        0        0        2  ...        8        9   \n",
       "238        0        0        0        0        0  ...       18        4   \n",
       "239      145      327     1263     2033     1686  ...        0        0   \n",
       "240      205      341      134      170      270  ...        6       10   \n",
       "\n",
       "     2016/17  2017/18  2018/19  2019/20  2020/21  2021/22  2022/23  % Change  \n",
       "0        180      134      141      164      149      157      194      23.6  \n",
       "1         10        9        9        6        6        6       10      66.7  \n",
       "2        138      151      117       81       53       77       73      -5.2  \n",
       "3       1847     2118     2061     2356     2166     2680     3006      12.2  \n",
       "4       3189     3322     3451     3710     3502     3799     4059       6.8  \n",
       "..       ...      ...      ...      ...      ...      ...      ...       ...  \n",
       "236        3        4        4        4        6        1        3     200.0  \n",
       "237       11       14       15       13       11       11        8     -27.3  \n",
       "238        2        0        2        0        3        9        0    -100.0  \n",
       "239        0        0        0        0        0        0        0       0.0  \n",
       "240        2        6        1        7       12       12       20      66.7  \n",
       "\n",
       "[241 rows x 37 columns]"
      ]
     },
     "execution_count": 2,
     "metadata": {},
     "output_type": "execute_result"
    }
   ],
   "source": [
    "# read in the data\n",
    "\n",
    "data = pd.read_csv('https://raw.githubusercontent.com/Tinashe-04/InternationalStudentsCensusData/main/fixedCensusData.csv')\n",
    "data"
   ]
  },
  {
   "cell_type": "code",
   "execution_count": 3,
   "metadata": {},
   "outputs": [
    {
     "data": {
      "text/plain": [
       "Index(['Unnamed: 0', 'Place of Origin', '1949/50', '1954/55', '1959/60',\n",
       "       '1964/65', '1969/70', '1974/75', '1979/80', '1984/85', '1989/90',\n",
       "       '1994/95', '1999/00', '2000/01', '2001/02', '2002/03', '2003/04',\n",
       "       '2004/05', '2005/06', '2006/07', '2007/08', '2008/09', '2009/10',\n",
       "       '2010/11', '2011/12', '2012/13', '2013/14', '2014/15', '2015/16',\n",
       "       '2016/17', '2017/18', '2018/19', '2019/20', '2020/21', '2021/22',\n",
       "       '2022/23', '% Change'],\n",
       "      dtype='object')"
      ]
     },
     "execution_count": 3,
     "metadata": {},
     "output_type": "execute_result"
    }
   ],
   "source": [
    "# check the columns\n",
    "data.columns"
   ]
  },
  {
   "cell_type": "code",
   "execution_count": 4,
   "metadata": {},
   "outputs": [
    {
     "data": {
      "text/html": [
       "<div>\n",
       "<style scoped>\n",
       "    .dataframe tbody tr th:only-of-type {\n",
       "        vertical-align: middle;\n",
       "    }\n",
       "\n",
       "    .dataframe tbody tr th {\n",
       "        vertical-align: top;\n",
       "    }\n",
       "\n",
       "    .dataframe thead th {\n",
       "        text-align: right;\n",
       "    }\n",
       "</style>\n",
       "<table border=\"1\" class=\"dataframe\">\n",
       "  <thead>\n",
       "    <tr style=\"text-align: right;\">\n",
       "      <th></th>\n",
       "      <th>Place of Origin</th>\n",
       "      <th>1949/50</th>\n",
       "      <th>1954/55</th>\n",
       "      <th>1959/60</th>\n",
       "      <th>1964/65</th>\n",
       "      <th>1969/70</th>\n",
       "      <th>1974/75</th>\n",
       "      <th>1979/80</th>\n",
       "      <th>1984/85</th>\n",
       "      <th>1989/90</th>\n",
       "      <th>...</th>\n",
       "      <th>2014/15</th>\n",
       "      <th>2015/16</th>\n",
       "      <th>2016/17</th>\n",
       "      <th>2017/18</th>\n",
       "      <th>2018/19</th>\n",
       "      <th>2019/20</th>\n",
       "      <th>2020/21</th>\n",
       "      <th>2021/22</th>\n",
       "      <th>2022/23</th>\n",
       "      <th>% Change</th>\n",
       "    </tr>\n",
       "  </thead>\n",
       "  <tbody>\n",
       "    <tr>\n",
       "      <th>0</th>\n",
       "      <td>Burundi</td>\n",
       "      <td>0</td>\n",
       "      <td>0</td>\n",
       "      <td>0</td>\n",
       "      <td>6</td>\n",
       "      <td>6</td>\n",
       "      <td>5</td>\n",
       "      <td>12</td>\n",
       "      <td>32</td>\n",
       "      <td>54</td>\n",
       "      <td>...</td>\n",
       "      <td>165</td>\n",
       "      <td>148</td>\n",
       "      <td>180</td>\n",
       "      <td>134</td>\n",
       "      <td>141</td>\n",
       "      <td>164</td>\n",
       "      <td>149</td>\n",
       "      <td>157</td>\n",
       "      <td>194</td>\n",
       "      <td>23.6</td>\n",
       "    </tr>\n",
       "    <tr>\n",
       "      <th>1</th>\n",
       "      <td>Djibouti</td>\n",
       "      <td>0</td>\n",
       "      <td>0</td>\n",
       "      <td>0</td>\n",
       "      <td>0</td>\n",
       "      <td>0</td>\n",
       "      <td>1</td>\n",
       "      <td>2</td>\n",
       "      <td>16</td>\n",
       "      <td>19</td>\n",
       "      <td>...</td>\n",
       "      <td>7</td>\n",
       "      <td>9</td>\n",
       "      <td>10</td>\n",
       "      <td>9</td>\n",
       "      <td>9</td>\n",
       "      <td>6</td>\n",
       "      <td>6</td>\n",
       "      <td>6</td>\n",
       "      <td>10</td>\n",
       "      <td>66.7</td>\n",
       "    </tr>\n",
       "    <tr>\n",
       "      <th>2</th>\n",
       "      <td>Eritrea</td>\n",
       "      <td>0</td>\n",
       "      <td>0</td>\n",
       "      <td>0</td>\n",
       "      <td>0</td>\n",
       "      <td>0</td>\n",
       "      <td>0</td>\n",
       "      <td>0</td>\n",
       "      <td>0</td>\n",
       "      <td>0</td>\n",
       "      <td>...</td>\n",
       "      <td>108</td>\n",
       "      <td>109</td>\n",
       "      <td>138</td>\n",
       "      <td>151</td>\n",
       "      <td>117</td>\n",
       "      <td>81</td>\n",
       "      <td>53</td>\n",
       "      <td>77</td>\n",
       "      <td>73</td>\n",
       "      <td>-5.2</td>\n",
       "    </tr>\n",
       "    <tr>\n",
       "      <th>3</th>\n",
       "      <td>Ethiopia</td>\n",
       "      <td>37</td>\n",
       "      <td>62</td>\n",
       "      <td>170</td>\n",
       "      <td>266</td>\n",
       "      <td>540</td>\n",
       "      <td>2050</td>\n",
       "      <td>1340</td>\n",
       "      <td>2120</td>\n",
       "      <td>2020</td>\n",
       "      <td>...</td>\n",
       "      <td>1472</td>\n",
       "      <td>1517</td>\n",
       "      <td>1847</td>\n",
       "      <td>2118</td>\n",
       "      <td>2061</td>\n",
       "      <td>2356</td>\n",
       "      <td>2166</td>\n",
       "      <td>2680</td>\n",
       "      <td>3006</td>\n",
       "      <td>12.2</td>\n",
       "    </tr>\n",
       "    <tr>\n",
       "      <th>4</th>\n",
       "      <td>Kenya</td>\n",
       "      <td>0</td>\n",
       "      <td>19</td>\n",
       "      <td>156</td>\n",
       "      <td>774</td>\n",
       "      <td>492</td>\n",
       "      <td>870</td>\n",
       "      <td>1850</td>\n",
       "      <td>1890</td>\n",
       "      <td>2200</td>\n",
       "      <td>...</td>\n",
       "      <td>3072</td>\n",
       "      <td>3019</td>\n",
       "      <td>3189</td>\n",
       "      <td>3322</td>\n",
       "      <td>3451</td>\n",
       "      <td>3710</td>\n",
       "      <td>3502</td>\n",
       "      <td>3799</td>\n",
       "      <td>4059</td>\n",
       "      <td>6.8</td>\n",
       "    </tr>\n",
       "    <tr>\n",
       "      <th>...</th>\n",
       "      <td>...</td>\n",
       "      <td>...</td>\n",
       "      <td>...</td>\n",
       "      <td>...</td>\n",
       "      <td>...</td>\n",
       "      <td>...</td>\n",
       "      <td>...</td>\n",
       "      <td>...</td>\n",
       "      <td>...</td>\n",
       "      <td>...</td>\n",
       "      <td>...</td>\n",
       "      <td>...</td>\n",
       "      <td>...</td>\n",
       "      <td>...</td>\n",
       "      <td>...</td>\n",
       "      <td>...</td>\n",
       "      <td>...</td>\n",
       "      <td>...</td>\n",
       "      <td>...</td>\n",
       "      <td>...</td>\n",
       "      <td>...</td>\n",
       "    </tr>\n",
       "    <tr>\n",
       "      <th>236</th>\n",
       "      <td>Tuvalu</td>\n",
       "      <td>0</td>\n",
       "      <td>0</td>\n",
       "      <td>0</td>\n",
       "      <td>0</td>\n",
       "      <td>0</td>\n",
       "      <td>0</td>\n",
       "      <td>0</td>\n",
       "      <td>0</td>\n",
       "      <td>1</td>\n",
       "      <td>...</td>\n",
       "      <td>7</td>\n",
       "      <td>4</td>\n",
       "      <td>3</td>\n",
       "      <td>4</td>\n",
       "      <td>4</td>\n",
       "      <td>4</td>\n",
       "      <td>6</td>\n",
       "      <td>1</td>\n",
       "      <td>3</td>\n",
       "      <td>200.0</td>\n",
       "    </tr>\n",
       "    <tr>\n",
       "      <th>237</th>\n",
       "      <td>Vanuatu</td>\n",
       "      <td>0</td>\n",
       "      <td>0</td>\n",
       "      <td>0</td>\n",
       "      <td>0</td>\n",
       "      <td>0</td>\n",
       "      <td>0</td>\n",
       "      <td>0</td>\n",
       "      <td>2</td>\n",
       "      <td>1</td>\n",
       "      <td>...</td>\n",
       "      <td>8</td>\n",
       "      <td>9</td>\n",
       "      <td>11</td>\n",
       "      <td>14</td>\n",
       "      <td>15</td>\n",
       "      <td>13</td>\n",
       "      <td>11</td>\n",
       "      <td>11</td>\n",
       "      <td>8</td>\n",
       "      <td>-27.3</td>\n",
       "    </tr>\n",
       "    <tr>\n",
       "      <th>238</th>\n",
       "      <td>Wallis and Futuna</td>\n",
       "      <td>0</td>\n",
       "      <td>0</td>\n",
       "      <td>0</td>\n",
       "      <td>0</td>\n",
       "      <td>0</td>\n",
       "      <td>0</td>\n",
       "      <td>0</td>\n",
       "      <td>0</td>\n",
       "      <td>0</td>\n",
       "      <td>...</td>\n",
       "      <td>18</td>\n",
       "      <td>4</td>\n",
       "      <td>2</td>\n",
       "      <td>0</td>\n",
       "      <td>2</td>\n",
       "      <td>0</td>\n",
       "      <td>3</td>\n",
       "      <td>9</td>\n",
       "      <td>0</td>\n",
       "      <td>-100.0</td>\n",
       "    </tr>\n",
       "    <tr>\n",
       "      <th>239</th>\n",
       "      <td>Pacific Islands, Unspecified</td>\n",
       "      <td>0</td>\n",
       "      <td>15</td>\n",
       "      <td>38</td>\n",
       "      <td>145</td>\n",
       "      <td>327</td>\n",
       "      <td>1263</td>\n",
       "      <td>2033</td>\n",
       "      <td>1686</td>\n",
       "      <td>1028</td>\n",
       "      <td>...</td>\n",
       "      <td>0</td>\n",
       "      <td>0</td>\n",
       "      <td>0</td>\n",
       "      <td>0</td>\n",
       "      <td>0</td>\n",
       "      <td>0</td>\n",
       "      <td>0</td>\n",
       "      <td>0</td>\n",
       "      <td>0</td>\n",
       "      <td>0.0</td>\n",
       "    </tr>\n",
       "    <tr>\n",
       "      <th>240</th>\n",
       "      <td>Stateless</td>\n",
       "      <td>195</td>\n",
       "      <td>42</td>\n",
       "      <td>93</td>\n",
       "      <td>205</td>\n",
       "      <td>341</td>\n",
       "      <td>134</td>\n",
       "      <td>170</td>\n",
       "      <td>270</td>\n",
       "      <td>110</td>\n",
       "      <td>...</td>\n",
       "      <td>6</td>\n",
       "      <td>10</td>\n",
       "      <td>2</td>\n",
       "      <td>6</td>\n",
       "      <td>1</td>\n",
       "      <td>7</td>\n",
       "      <td>12</td>\n",
       "      <td>12</td>\n",
       "      <td>20</td>\n",
       "      <td>66.7</td>\n",
       "    </tr>\n",
       "  </tbody>\n",
       "</table>\n",
       "<p>241 rows × 36 columns</p>\n",
       "</div>"
      ],
      "text/plain": [
       "                  Place of Origin  1949/50  1954/55  1959/60  1964/65  \\\n",
       "0                         Burundi        0        0        0        6   \n",
       "1                        Djibouti        0        0        0        0   \n",
       "2                         Eritrea        0        0        0        0   \n",
       "3                        Ethiopia       37       62      170      266   \n",
       "4                           Kenya        0       19      156      774   \n",
       "..                            ...      ...      ...      ...      ...   \n",
       "236                        Tuvalu        0        0        0        0   \n",
       "237                       Vanuatu        0        0        0        0   \n",
       "238             Wallis and Futuna        0        0        0        0   \n",
       "239  Pacific Islands, Unspecified        0       15       38      145   \n",
       "240                     Stateless      195       42       93      205   \n",
       "\n",
       "     1969/70  1974/75  1979/80  1984/85  1989/90  ...  2014/15  2015/16  \\\n",
       "0          6        5       12       32       54  ...      165      148   \n",
       "1          0        1        2       16       19  ...        7        9   \n",
       "2          0        0        0        0        0  ...      108      109   \n",
       "3        540     2050     1340     2120     2020  ...     1472     1517   \n",
       "4        492      870     1850     1890     2200  ...     3072     3019   \n",
       "..       ...      ...      ...      ...      ...  ...      ...      ...   \n",
       "236        0        0        0        0        1  ...        7        4   \n",
       "237        0        0        0        2        1  ...        8        9   \n",
       "238        0        0        0        0        0  ...       18        4   \n",
       "239      327     1263     2033     1686     1028  ...        0        0   \n",
       "240      341      134      170      270      110  ...        6       10   \n",
       "\n",
       "     2016/17  2017/18  2018/19  2019/20  2020/21  2021/22  2022/23  % Change  \n",
       "0        180      134      141      164      149      157      194      23.6  \n",
       "1         10        9        9        6        6        6       10      66.7  \n",
       "2        138      151      117       81       53       77       73      -5.2  \n",
       "3       1847     2118     2061     2356     2166     2680     3006      12.2  \n",
       "4       3189     3322     3451     3710     3502     3799     4059       6.8  \n",
       "..       ...      ...      ...      ...      ...      ...      ...       ...  \n",
       "236        3        4        4        4        6        1        3     200.0  \n",
       "237       11       14       15       13       11       11        8     -27.3  \n",
       "238        2        0        2        0        3        9        0    -100.0  \n",
       "239        0        0        0        0        0        0        0       0.0  \n",
       "240        2        6        1        7       12       12       20      66.7  \n",
       "\n",
       "[241 rows x 36 columns]"
      ]
     },
     "execution_count": 4,
     "metadata": {},
     "output_type": "execute_result"
    }
   ],
   "source": [
    "# drop unwanted column\n",
    "data.drop('Unnamed: 0', axis=1, inplace=True)\n",
    "data"
   ]
  },
  {
   "cell_type": "code",
   "execution_count": 5,
   "metadata": {},
   "outputs": [
    {
     "data": {
      "text/plain": [
       "Place of Origin     object\n",
       "1949/50              int64\n",
       "1954/55              int64\n",
       "1959/60              int64\n",
       "1964/65              int64\n",
       "1969/70              int64\n",
       "1974/75              int64\n",
       "1979/80              int64\n",
       "1984/85              int64\n",
       "1989/90              int64\n",
       "1994/95              int64\n",
       "1999/00              int64\n",
       "2000/01              int64\n",
       "2001/02              int64\n",
       "2002/03              int64\n",
       "2003/04              int64\n",
       "2004/05              int64\n",
       "2005/06              int64\n",
       "2006/07              int64\n",
       "2007/08              int64\n",
       "2008/09              int64\n",
       "2009/10              int64\n",
       "2010/11              int64\n",
       "2011/12              int64\n",
       "2012/13              int64\n",
       "2013/14              int64\n",
       "2014/15              int64\n",
       "2015/16              int64\n",
       "2016/17              int64\n",
       "2017/18              int64\n",
       "2018/19              int64\n",
       "2019/20              int64\n",
       "2020/21              int64\n",
       "2021/22              int64\n",
       "2022/23              int64\n",
       "% Change           float64\n",
       "dtype: object"
      ]
     },
     "execution_count": 5,
     "metadata": {},
     "output_type": "execute_result"
    }
   ],
   "source": [
    "# check data types\n",
    "data.dtypes"
   ]
  },
  {
   "cell_type": "code",
   "execution_count": 6,
   "metadata": {},
   "outputs": [
    {
     "data": {
      "application/vnd.plotly.v1+json": {
       "config": {
        "plotlyServerURL": "https://plot.ly"
       },
       "data": [
        {
         "coloraxis": "coloraxis",
         "geo": "geo",
         "hovertemplate": "Place of Origin=%{location}<br>2022/23=%{z}<extra></extra>",
         "locationmode": "country names",
         "locations": [
          "Burundi",
          "Djibouti",
          "Eritrea",
          "Ethiopia",
          "Kenya",
          "Rwanda",
          "Seychelles",
          "Somalia",
          "South Sudan",
          "Sudan",
          "Tanzania",
          "Uganda",
          "East Africa, Unspecified",
          "Cameroon",
          "Central African Republic",
          "Chad",
          "Congo (Brazzaville)",
          "Democratic Republic of Congo",
          "Equatorial Guinea",
          "Gabon",
          "São Tomé & Príncipe",
          "Central Africa, Unspecified",
          "Angola",
          "Botswana",
          "Comoros",
          "Eswatini",
          "Lesotho",
          "Madagascar",
          "Malawi",
          "Mauritius",
          "Mozambique",
          "Namibia",
          "Reunion",
          "South Africa",
          "Zambia",
          "Zimbabwe",
          "Southern Africa, Unspecified",
          "Benin",
          "Burkina Faso",
          "Cabo Verde",
          "Côte d’Ivoire",
          "Gambia, The",
          "Ghana",
          "Guinea",
          "Guinea-Bissau",
          "Liberia",
          "Mali",
          "Mauritania",
          "Niger",
          "Nigeria",
          "Saint Helena",
          "Senegal",
          "Sierra Leone",
          "Togo",
          "West Africa, Unspecified",
          "China",
          "Hong Kong",
          "Japan",
          "Macau",
          "Mongolia",
          "North Korea",
          "South Korea",
          "Taiwan",
          "East Asia, Unspecified",
          "Afghanistan",
          "Bangladesh",
          "Bhutan",
          "India",
          "Kazakhstan",
          "Kyrgyzstan",
          "Maldives",
          "Nepal",
          "Pakistan",
          "Sri Lanka",
          "Tajikistan",
          "Turkmenistan",
          "Uzbekistan",
          "South and Central Asia, Unspecified",
          "Brunei",
          "Burma",
          "Cambodia",
          "Indonesia",
          "Laos",
          "Malaysia",
          "Philippines",
          "Singapore",
          "Thailand",
          "Timor-Leste",
          "Vietnam",
          "Southeast Asia, Unspecified",
          "Albania",
          "Andorra",
          "Armenia",
          "Austria",
          "Azerbaijan",
          "Belarus",
          "Belgium",
          "Bosnia and Herzegovina",
          "Bulgaria",
          "Croatia",
          "Cyprus",
          "Czech Republic",
          "Czechoslovakia, Former",
          "Denmark",
          "Estonia",
          "Finland",
          "France",
          "Georgia",
          "Germany",
          "Gibraltar",
          "Greece",
          "Holy See",
          "Hungary",
          "Iceland",
          "Ireland",
          "Italy",
          "Kosovo",
          "Latvia",
          "Liechtenstein",
          "Lithuania",
          "Luxembourg",
          "North Macedonia",
          "Malta",
          "Moldova",
          "Monaco",
          "Montenegro",
          "Netherlands",
          "Norway",
          "Poland",
          "Portugal",
          "Romania",
          "Russia",
          "San Marino",
          "Serbia",
          "Serbia & Montenegro",
          "Slovakia",
          "Slovenia",
          "Spain",
          "Sweden",
          "Switzerland",
          "Turkey",
          "U.S.S.R., Former",
          "Ukraine",
          "United Kingdom",
          "Yugoslavia, Former",
          "Europe, Unspecified",
          "Anguilla",
          "Antigua and Barbuda",
          "Aruba",
          "Bahamas",
          "Barbados",
          "Bermuda",
          "British Virgin Islands",
          "Cayman Islands",
          "Cuba",
          "Curacao",
          "Dominica",
          "Dominican Republic",
          "Grenada",
          "Guadeloupe",
          "Haiti",
          "Jamaica",
          "Martinique",
          "Montserrat",
          "Netherlands Antilles",
          "St. Kitts and Nevis",
          "St. Lucia",
          "St. Vincent and the Grenadines",
          "Sint Maarten",
          "Trinidad and Tobago",
          "Turks and Caicos",
          "Caribbean, Unspecified",
          "Belize",
          "Costa Rica",
          "El Salvador",
          "Guatemala",
          "Honduras",
          "Mexico",
          "Nicaragua",
          "Panama",
          "Mexico and Central America, Unspecified",
          "Argentina",
          "Bolivia",
          "Brazil",
          "Chile",
          "Colombia",
          "Ecuador",
          "Falkland Islands/Islas Malvinas",
          "French Guiana",
          "Guyana",
          "Paraguay",
          "Peru",
          "Suriname",
          "Uruguay",
          "Venezuela",
          "South America, Unspecified",
          "Bahrain",
          "Iran",
          "Iraq",
          "Israel",
          "Jordan",
          "Kuwait",
          "Lebanon",
          "Oman",
          "Palestinian Territories",
          "Qatar",
          "Saudi Arabia",
          "Syria",
          "United Arab Emirates",
          "Yemen",
          "Middle East, Unspecified",
          "Algeria",
          "Egypt",
          "Libya",
          "Morocco",
          "Tunisia",
          "Western Sahara",
          "North Africa, Unspecified",
          "Canada",
          "Australia",
          "Cook Islands",
          "Fiji",
          "French Polynesia",
          "Kiribati",
          "Marshall Islands, Republic of the",
          "Micronesia, Federate States of ",
          "Nauru",
          "New Caledonia",
          "New Zealand",
          "Niue",
          "Norfolk Island",
          "Palau",
          "Papua New Guinea",
          "Samoa",
          "Solomon Islands",
          "Tonga",
          "Tuvalu",
          "Vanuatu",
          "Wallis and Futuna",
          "Pacific Islands, Unspecified",
          "Stateless"
         ],
         "name": "",
         "type": "choropleth",
         "z": [
          194,
          10,
          73,
          3006,
          4059,
          1372,
          18,
          120,
          87,
          381,
          904,
          1088,
          0,
          1086,
          11,
          67,
          199,
          1660,
          234,
          236,
          1,
          0,
          553,
          256,
          23,
          181,
          70,
          226,
          373,
          292,
          147,
          94,
          10,
          2713,
          555,
          1789,
          0,
          246,
          372,
          47,
          1072,
          286,
          6468,
          96,
          12,
          276,
          254,
          41,
          332,
          17640,
          1,
          490,
          280,
          198,
          0,
          289526,
          5867,
          16054,
          360,
          1488,
          3,
          43847,
          21834,
          0,
          682,
          13563,
          188,
          268923,
          2440,
          705,
          27,
          15090,
          10164,
          3106,
          170,
          299,
          1089,
          0,
          41,
          2483,
          1060,
          8467,
          107,
          4973,
          3818,
          4484,
          5376,
          31,
          21900,
          0,
          1087,
          20,
          457,
          1054,
          901,
          382,
          1044,
          236,
          546,
          408,
          413,
          787,
          0,
          1393,
          197,
          517,
          8552,
          832,
          9751,
          5,
          2539,
          0,
          712,
          367,
          1441,
          6274,
          160,
          251,
          7,
          323,
          89,
          209,
          82,
          151,
          14,
          132,
          2751,
          1926,
          1585,
          1045,
          876,
          4913,
          4,
          863,
          0,
          296,
          212,
          8548,
          2732,
          1434,
          8657,
          0,
          2072,
          10659,
          0,
          0,
          15,
          168,
          58,
          2606,
          287,
          228,
          82,
          145,
          113,
          54,
          459,
          1514,
          129,
          25,
          1015,
          2928,
          5,
          4,
          0,
          186,
          201,
          93,
          90,
          1248,
          36,
          3,
          370,
          1357,
          1309,
          1289,
          2227,
          14541,
          598,
          2087,
          0,
          2979,
          1332,
          16025,
          3007,
          9096,
          3090,
          0,
          13,
          380,
          732,
          5170,
          43,
          398,
          4210,
          0,
          371,
          10812,
          544,
          2019,
          2608,
          5427,
          2097,
          2077,
          457,
          404,
          15989,
          402,
          1502,
          305,
          0,
          302,
          4247,
          449,
          1603,
          680,
          0,
          0,
          27876,
          4504,
          2,
          134,
          56,
          42,
          3,
          33,
          3,
          2,
          1651,
          1,
          0,
          13,
          104,
          66,
          10,
          147,
          3,
          8,
          0,
          0,
          20
         ]
        }
       ],
       "layout": {
        "coloraxis": {
         "colorbar": {
          "title": {
           "text": "2022/23"
          }
         },
         "colorscale": [
          [
           0,
           "#0d0887"
          ],
          [
           0.1111111111111111,
           "#46039f"
          ],
          [
           0.2222222222222222,
           "#7201a8"
          ],
          [
           0.3333333333333333,
           "#9c179e"
          ],
          [
           0.4444444444444444,
           "#bd3786"
          ],
          [
           0.5555555555555556,
           "#d8576b"
          ],
          [
           0.6666666666666666,
           "#ed7953"
          ],
          [
           0.7777777777777778,
           "#fb9f3a"
          ],
          [
           0.8888888888888888,
           "#fdca26"
          ],
          [
           1,
           "#f0f921"
          ]
         ]
        },
        "geo": {
         "center": {},
         "domain": {
          "x": [
           0,
           1
          ],
          "y": [
           0,
           1
          ]
         }
        },
        "legend": {
         "tracegroupgap": 0
        },
        "margin": {
         "t": 60
        },
        "template": {
         "data": {
          "bar": [
           {
            "error_x": {
             "color": "#2a3f5f"
            },
            "error_y": {
             "color": "#2a3f5f"
            },
            "marker": {
             "line": {
              "color": "#E5ECF6",
              "width": 0.5
             },
             "pattern": {
              "fillmode": "overlay",
              "size": 10,
              "solidity": 0.2
             }
            },
            "type": "bar"
           }
          ],
          "barpolar": [
           {
            "marker": {
             "line": {
              "color": "#E5ECF6",
              "width": 0.5
             },
             "pattern": {
              "fillmode": "overlay",
              "size": 10,
              "solidity": 0.2
             }
            },
            "type": "barpolar"
           }
          ],
          "carpet": [
           {
            "aaxis": {
             "endlinecolor": "#2a3f5f",
             "gridcolor": "white",
             "linecolor": "white",
             "minorgridcolor": "white",
             "startlinecolor": "#2a3f5f"
            },
            "baxis": {
             "endlinecolor": "#2a3f5f",
             "gridcolor": "white",
             "linecolor": "white",
             "minorgridcolor": "white",
             "startlinecolor": "#2a3f5f"
            },
            "type": "carpet"
           }
          ],
          "choropleth": [
           {
            "colorbar": {
             "outlinewidth": 0,
             "ticks": ""
            },
            "type": "choropleth"
           }
          ],
          "contour": [
           {
            "colorbar": {
             "outlinewidth": 0,
             "ticks": ""
            },
            "colorscale": [
             [
              0,
              "#0d0887"
             ],
             [
              0.1111111111111111,
              "#46039f"
             ],
             [
              0.2222222222222222,
              "#7201a8"
             ],
             [
              0.3333333333333333,
              "#9c179e"
             ],
             [
              0.4444444444444444,
              "#bd3786"
             ],
             [
              0.5555555555555556,
              "#d8576b"
             ],
             [
              0.6666666666666666,
              "#ed7953"
             ],
             [
              0.7777777777777778,
              "#fb9f3a"
             ],
             [
              0.8888888888888888,
              "#fdca26"
             ],
             [
              1,
              "#f0f921"
             ]
            ],
            "type": "contour"
           }
          ],
          "contourcarpet": [
           {
            "colorbar": {
             "outlinewidth": 0,
             "ticks": ""
            },
            "type": "contourcarpet"
           }
          ],
          "heatmap": [
           {
            "colorbar": {
             "outlinewidth": 0,
             "ticks": ""
            },
            "colorscale": [
             [
              0,
              "#0d0887"
             ],
             [
              0.1111111111111111,
              "#46039f"
             ],
             [
              0.2222222222222222,
              "#7201a8"
             ],
             [
              0.3333333333333333,
              "#9c179e"
             ],
             [
              0.4444444444444444,
              "#bd3786"
             ],
             [
              0.5555555555555556,
              "#d8576b"
             ],
             [
              0.6666666666666666,
              "#ed7953"
             ],
             [
              0.7777777777777778,
              "#fb9f3a"
             ],
             [
              0.8888888888888888,
              "#fdca26"
             ],
             [
              1,
              "#f0f921"
             ]
            ],
            "type": "heatmap"
           }
          ],
          "heatmapgl": [
           {
            "colorbar": {
             "outlinewidth": 0,
             "ticks": ""
            },
            "colorscale": [
             [
              0,
              "#0d0887"
             ],
             [
              0.1111111111111111,
              "#46039f"
             ],
             [
              0.2222222222222222,
              "#7201a8"
             ],
             [
              0.3333333333333333,
              "#9c179e"
             ],
             [
              0.4444444444444444,
              "#bd3786"
             ],
             [
              0.5555555555555556,
              "#d8576b"
             ],
             [
              0.6666666666666666,
              "#ed7953"
             ],
             [
              0.7777777777777778,
              "#fb9f3a"
             ],
             [
              0.8888888888888888,
              "#fdca26"
             ],
             [
              1,
              "#f0f921"
             ]
            ],
            "type": "heatmapgl"
           }
          ],
          "histogram": [
           {
            "marker": {
             "pattern": {
              "fillmode": "overlay",
              "size": 10,
              "solidity": 0.2
             }
            },
            "type": "histogram"
           }
          ],
          "histogram2d": [
           {
            "colorbar": {
             "outlinewidth": 0,
             "ticks": ""
            },
            "colorscale": [
             [
              0,
              "#0d0887"
             ],
             [
              0.1111111111111111,
              "#46039f"
             ],
             [
              0.2222222222222222,
              "#7201a8"
             ],
             [
              0.3333333333333333,
              "#9c179e"
             ],
             [
              0.4444444444444444,
              "#bd3786"
             ],
             [
              0.5555555555555556,
              "#d8576b"
             ],
             [
              0.6666666666666666,
              "#ed7953"
             ],
             [
              0.7777777777777778,
              "#fb9f3a"
             ],
             [
              0.8888888888888888,
              "#fdca26"
             ],
             [
              1,
              "#f0f921"
             ]
            ],
            "type": "histogram2d"
           }
          ],
          "histogram2dcontour": [
           {
            "colorbar": {
             "outlinewidth": 0,
             "ticks": ""
            },
            "colorscale": [
             [
              0,
              "#0d0887"
             ],
             [
              0.1111111111111111,
              "#46039f"
             ],
             [
              0.2222222222222222,
              "#7201a8"
             ],
             [
              0.3333333333333333,
              "#9c179e"
             ],
             [
              0.4444444444444444,
              "#bd3786"
             ],
             [
              0.5555555555555556,
              "#d8576b"
             ],
             [
              0.6666666666666666,
              "#ed7953"
             ],
             [
              0.7777777777777778,
              "#fb9f3a"
             ],
             [
              0.8888888888888888,
              "#fdca26"
             ],
             [
              1,
              "#f0f921"
             ]
            ],
            "type": "histogram2dcontour"
           }
          ],
          "mesh3d": [
           {
            "colorbar": {
             "outlinewidth": 0,
             "ticks": ""
            },
            "type": "mesh3d"
           }
          ],
          "parcoords": [
           {
            "line": {
             "colorbar": {
              "outlinewidth": 0,
              "ticks": ""
             }
            },
            "type": "parcoords"
           }
          ],
          "pie": [
           {
            "automargin": true,
            "type": "pie"
           }
          ],
          "scatter": [
           {
            "fillpattern": {
             "fillmode": "overlay",
             "size": 10,
             "solidity": 0.2
            },
            "type": "scatter"
           }
          ],
          "scatter3d": [
           {
            "line": {
             "colorbar": {
              "outlinewidth": 0,
              "ticks": ""
             }
            },
            "marker": {
             "colorbar": {
              "outlinewidth": 0,
              "ticks": ""
             }
            },
            "type": "scatter3d"
           }
          ],
          "scattercarpet": [
           {
            "marker": {
             "colorbar": {
              "outlinewidth": 0,
              "ticks": ""
             }
            },
            "type": "scattercarpet"
           }
          ],
          "scattergeo": [
           {
            "marker": {
             "colorbar": {
              "outlinewidth": 0,
              "ticks": ""
             }
            },
            "type": "scattergeo"
           }
          ],
          "scattergl": [
           {
            "marker": {
             "colorbar": {
              "outlinewidth": 0,
              "ticks": ""
             }
            },
            "type": "scattergl"
           }
          ],
          "scattermapbox": [
           {
            "marker": {
             "colorbar": {
              "outlinewidth": 0,
              "ticks": ""
             }
            },
            "type": "scattermapbox"
           }
          ],
          "scatterpolar": [
           {
            "marker": {
             "colorbar": {
              "outlinewidth": 0,
              "ticks": ""
             }
            },
            "type": "scatterpolar"
           }
          ],
          "scatterpolargl": [
           {
            "marker": {
             "colorbar": {
              "outlinewidth": 0,
              "ticks": ""
             }
            },
            "type": "scatterpolargl"
           }
          ],
          "scatterternary": [
           {
            "marker": {
             "colorbar": {
              "outlinewidth": 0,
              "ticks": ""
             }
            },
            "type": "scatterternary"
           }
          ],
          "surface": [
           {
            "colorbar": {
             "outlinewidth": 0,
             "ticks": ""
            },
            "colorscale": [
             [
              0,
              "#0d0887"
             ],
             [
              0.1111111111111111,
              "#46039f"
             ],
             [
              0.2222222222222222,
              "#7201a8"
             ],
             [
              0.3333333333333333,
              "#9c179e"
             ],
             [
              0.4444444444444444,
              "#bd3786"
             ],
             [
              0.5555555555555556,
              "#d8576b"
             ],
             [
              0.6666666666666666,
              "#ed7953"
             ],
             [
              0.7777777777777778,
              "#fb9f3a"
             ],
             [
              0.8888888888888888,
              "#fdca26"
             ],
             [
              1,
              "#f0f921"
             ]
            ],
            "type": "surface"
           }
          ],
          "table": [
           {
            "cells": {
             "fill": {
              "color": "#EBF0F8"
             },
             "line": {
              "color": "white"
             }
            },
            "header": {
             "fill": {
              "color": "#C8D4E3"
             },
             "line": {
              "color": "white"
             }
            },
            "type": "table"
           }
          ]
         },
         "layout": {
          "annotationdefaults": {
           "arrowcolor": "#2a3f5f",
           "arrowhead": 0,
           "arrowwidth": 1
          },
          "autotypenumbers": "strict",
          "coloraxis": {
           "colorbar": {
            "outlinewidth": 0,
            "ticks": ""
           }
          },
          "colorscale": {
           "diverging": [
            [
             0,
             "#8e0152"
            ],
            [
             0.1,
             "#c51b7d"
            ],
            [
             0.2,
             "#de77ae"
            ],
            [
             0.3,
             "#f1b6da"
            ],
            [
             0.4,
             "#fde0ef"
            ],
            [
             0.5,
             "#f7f7f7"
            ],
            [
             0.6,
             "#e6f5d0"
            ],
            [
             0.7,
             "#b8e186"
            ],
            [
             0.8,
             "#7fbc41"
            ],
            [
             0.9,
             "#4d9221"
            ],
            [
             1,
             "#276419"
            ]
           ],
           "sequential": [
            [
             0,
             "#0d0887"
            ],
            [
             0.1111111111111111,
             "#46039f"
            ],
            [
             0.2222222222222222,
             "#7201a8"
            ],
            [
             0.3333333333333333,
             "#9c179e"
            ],
            [
             0.4444444444444444,
             "#bd3786"
            ],
            [
             0.5555555555555556,
             "#d8576b"
            ],
            [
             0.6666666666666666,
             "#ed7953"
            ],
            [
             0.7777777777777778,
             "#fb9f3a"
            ],
            [
             0.8888888888888888,
             "#fdca26"
            ],
            [
             1,
             "#f0f921"
            ]
           ],
           "sequentialminus": [
            [
             0,
             "#0d0887"
            ],
            [
             0.1111111111111111,
             "#46039f"
            ],
            [
             0.2222222222222222,
             "#7201a8"
            ],
            [
             0.3333333333333333,
             "#9c179e"
            ],
            [
             0.4444444444444444,
             "#bd3786"
            ],
            [
             0.5555555555555556,
             "#d8576b"
            ],
            [
             0.6666666666666666,
             "#ed7953"
            ],
            [
             0.7777777777777778,
             "#fb9f3a"
            ],
            [
             0.8888888888888888,
             "#fdca26"
            ],
            [
             1,
             "#f0f921"
            ]
           ]
          },
          "colorway": [
           "#636efa",
           "#EF553B",
           "#00cc96",
           "#ab63fa",
           "#FFA15A",
           "#19d3f3",
           "#FF6692",
           "#B6E880",
           "#FF97FF",
           "#FECB52"
          ],
          "font": {
           "color": "#2a3f5f"
          },
          "geo": {
           "bgcolor": "white",
           "lakecolor": "white",
           "landcolor": "#E5ECF6",
           "showlakes": true,
           "showland": true,
           "subunitcolor": "white"
          },
          "hoverlabel": {
           "align": "left"
          },
          "hovermode": "closest",
          "mapbox": {
           "style": "light"
          },
          "paper_bgcolor": "white",
          "plot_bgcolor": "#E5ECF6",
          "polar": {
           "angularaxis": {
            "gridcolor": "white",
            "linecolor": "white",
            "ticks": ""
           },
           "bgcolor": "#E5ECF6",
           "radialaxis": {
            "gridcolor": "white",
            "linecolor": "white",
            "ticks": ""
           }
          },
          "scene": {
           "xaxis": {
            "backgroundcolor": "#E5ECF6",
            "gridcolor": "white",
            "gridwidth": 2,
            "linecolor": "white",
            "showbackground": true,
            "ticks": "",
            "zerolinecolor": "white"
           },
           "yaxis": {
            "backgroundcolor": "#E5ECF6",
            "gridcolor": "white",
            "gridwidth": 2,
            "linecolor": "white",
            "showbackground": true,
            "ticks": "",
            "zerolinecolor": "white"
           },
           "zaxis": {
            "backgroundcolor": "#E5ECF6",
            "gridcolor": "white",
            "gridwidth": 2,
            "linecolor": "white",
            "showbackground": true,
            "ticks": "",
            "zerolinecolor": "white"
           }
          },
          "shapedefaults": {
           "line": {
            "color": "#2a3f5f"
           }
          },
          "ternary": {
           "aaxis": {
            "gridcolor": "white",
            "linecolor": "white",
            "ticks": ""
           },
           "baxis": {
            "gridcolor": "white",
            "linecolor": "white",
            "ticks": ""
           },
           "bgcolor": "#E5ECF6",
           "caxis": {
            "gridcolor": "white",
            "linecolor": "white",
            "ticks": ""
           }
          },
          "title": {
           "x": 0.05
          },
          "xaxis": {
           "automargin": true,
           "gridcolor": "white",
           "linecolor": "white",
           "ticks": "",
           "title": {
            "standoff": 15
           },
           "zerolinecolor": "white",
           "zerolinewidth": 2
          },
          "yaxis": {
           "automargin": true,
           "gridcolor": "white",
           "linecolor": "white",
           "ticks": "",
           "title": {
            "standoff": 15
           },
           "zerolinecolor": "white",
           "zerolinewidth": 2
          }
         }
        }
       }
      }
     },
     "metadata": {},
     "output_type": "display_data"
    }
   ],
   "source": [
    "# create map plot of 2022/23 international student figures\n",
    "\n",
    "fig = px.choropleth(data_frame=data, locations='Place of Origin', locationmode='country names', color='2022/23')\n",
    "fig.show()"
   ]
  }
 ],
 "metadata": {
  "kernelspec": {
   "display_name": "xeus-python",
   "language": "python",
   "name": "python3"
  },
  "language_info": {
   "codemirror_mode": {
    "name": "ipython",
    "version": 3
   },
   "file_extension": ".py",
   "mimetype": "text/x-python",
   "name": "python",
   "nbconvert_exporter": "python",
   "pygments_lexer": "ipython3",
   "version": "3.12.2"
  }
 },
 "nbformat": 4,
 "nbformat_minor": 2
}
